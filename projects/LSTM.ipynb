{
 "cells": [
  {
   "cell_type": "code",
   "execution_count": 10,
   "id": "novel-ultimate",
   "metadata": {},
   "outputs": [],
   "source": [
    "import argparse\n",
    "import os\n",
    "import random\n",
    "import signal\n",
    "import sys\n",
    "import uuid\n",
    "from collections import deque\n",
    "\n",
    "import cv2\n",
    "\n",
    "import gym\n",
    "import gym_donkeycar\n",
    "import numpy as np\n",
    "import tensorflow as tf\n",
    "# from tensorflow.keras import backend as K\n",
    "from tensorflow.keras.layers import Activation, Conv2D, Dense, Flatten\n",
    "from tensorflow.keras.layers import Input\n",
    "from tensorflow.keras.layers import MaxPooling2D\n",
    "from tensorflow.keras.layers import Dropout\n",
    "from tensorflow.keras.layers import LSTM\n",
    "from tensorflow.keras.layers import TimeDistributed as TD\n",
    "from tensorflow.keras.models import Sequential\n",
    "from tensorflow.keras.optimizers import Adam\n",
    "import matplotlib.pyplot as plt # debug\n",
    "# logging\n",
    "# from stable_baselines import logger\n",
    "# from stable_baselines.common import explained_variance, tf_util, TensorboardWriter\n",
    "# from stable_baselines.common.tf_util import mse, total_episode_reward_logger\n",
    "import math\n",
    "import datetime\n",
    "img_rows, img_cols = 80, 80\n",
    "# Convert image into Black and white\n",
    "img_channels = 4  # We stack 4 frames"
   ]
  },
  {
   "cell_type": "code",
   "execution_count": 5,
   "id": "scientific-field",
   "metadata": {},
   "outputs": [],
   "source": [
    "def build_model(seq_length=4, num_outputs=15, input_shape=(80, 80)):\n",
    "        img_seq_shape = (seq_length,) + input_shape + (1,)\n",
    "        # img_in = Input(shape=img_seq_shape, name='img_in')\n",
    "#         drop_out = 0.3\n",
    "\n",
    "        model = Sequential()\n",
    "        model.add(Input(shape=img_seq_shape, name='img_in')) # 4*80*80\n",
    "        model.add(TD(Conv2D(24, (5,5), strides=(2,2), activation='relu'))) \n",
    "#         model.add(TD(Dropout(drop_out)))\n",
    "        model.add(TD(Conv2D(32, (5, 5), strides=(2, 2), activation='relu')))\n",
    "#         model.add(TD(Dropout(drop_out)))\n",
    "        model.add(TD(Conv2D(32, (3, 3), strides=(2, 2), activation='relu')))\n",
    "#         model.add(TD(Dropout(drop_out)))\n",
    "        model.add(TD(Conv2D(32, (3, 3), strides=(1, 1), activation='relu')))\n",
    "#         model.add(TD(Dropout(drop_out)))\n",
    "        model.add(TD(MaxPooling2D(pool_size=(2, 2))))\n",
    "        model.add(TD(Flatten(name='flattened')))\n",
    "        model.add(TD(Dense(100, activation='relu')))\n",
    "#         model.add(TD(Dropout(drop_out)))\n",
    "        \n",
    "        model.add(LSTM(128, return_sequences=True, name=\"LSTM_seq\"))\n",
    "#         model.add(Dropout(.1))\n",
    "        model.add(LSTM(128, return_sequences=False, name=\"LSTM_fin\"))\n",
    "#         model.add(Dropout(.1))\n",
    "        model.add(Dense(128, activation='relu'))\n",
    "#         model.add(Dropout(.1))\n",
    "        model.add(Dense(64, activation='relu'))\n",
    "#         model.add(Dense(10, activation='relu'))\n",
    "        model.add(Dense(num_outputs, activation='linear', name='model_outputs'))\n",
    "\n",
    "        model.compile(optimizer=\"rmsprop\", loss='mse')\n",
    "\n",
    "        return model"
   ]
  },
  {
   "cell_type": "code",
   "execution_count": 6,
   "id": "higher-cabin",
   "metadata": {},
   "outputs": [],
   "source": [
    "model = build_model()"
   ]
  },
  {
   "cell_type": "code",
   "execution_count": 7,
   "id": "social-above",
   "metadata": {},
   "outputs": [
    {
     "name": "stdout",
     "output_type": "stream",
     "text": [
      "Model: \"sequential_1\"\n",
      "_________________________________________________________________\n",
      "Layer (type)                 Output Shape              Param #   \n",
      "=================================================================\n",
      "time_distributed_12 (TimeDis (None, 4, 38, 38, 24)     624       \n",
      "_________________________________________________________________\n",
      "time_distributed_13 (TimeDis (None, 4, 17, 17, 32)     19232     \n",
      "_________________________________________________________________\n",
      "time_distributed_14 (TimeDis (None, 4, 8, 8, 32)       9248      \n",
      "_________________________________________________________________\n",
      "time_distributed_15 (TimeDis (None, 4, 6, 6, 32)       9248      \n",
      "_________________________________________________________________\n",
      "time_distributed_16 (TimeDis (None, 4, 3, 3, 32)       0         \n",
      "_________________________________________________________________\n",
      "time_distributed_17 (TimeDis (None, 4, 288)            0         \n",
      "_________________________________________________________________\n",
      "time_distributed_18 (TimeDis (None, 4, 100)            28900     \n",
      "_________________________________________________________________\n",
      "LSTM_seq (LSTM)              (None, 4, 128)            117248    \n",
      "_________________________________________________________________\n",
      "LSTM_fin (LSTM)              (None, 128)               131584    \n",
      "_________________________________________________________________\n",
      "dense_4 (Dense)              (None, 128)               16512     \n",
      "_________________________________________________________________\n",
      "dense_5 (Dense)              (None, 64)                8256      \n",
      "_________________________________________________________________\n",
      "model_outputs (Dense)        (None, 15)                975       \n",
      "=================================================================\n",
      "Total params: 341,827\n",
      "Trainable params: 341,827\n",
      "Non-trainable params: 0\n",
      "_________________________________________________________________\n"
     ]
    }
   ],
   "source": [
    "model.summary()"
   ]
  },
  {
   "cell_type": "code",
   "execution_count": 11,
   "id": "special-residence",
   "metadata": {},
   "outputs": [],
   "source": [
    "def build_model_cnn():\n",
    "        model = Sequential()\n",
    "        model.add(\n",
    "            Conv2D(24, (5, 5), strides=(2, 2), padding=\"same\", input_shape=(img_rows, img_cols, img_channels))\n",
    "        )  # 80*80*4\n",
    "        model.add(Activation(\"relu\"))\n",
    "        model.add(Conv2D(32, (5, 5), strides=(2, 2), padding=\"same\"))\n",
    "        model.add(Activation(\"relu\"))\n",
    "        model.add(Conv2D(64, (5, 5), strides=(2, 2), padding=\"same\"))\n",
    "        model.add(Activation(\"relu\"))\n",
    "        model.add(Conv2D(64, (3, 3), strides=(2, 2), padding=\"same\"))\n",
    "        model.add(Activation(\"relu\"))\n",
    "        model.add(Conv2D(64, (3, 3), strides=(1, 1), padding=\"same\"))\n",
    "        model.add(Activation(\"relu\"))\n",
    "        model.add(Flatten())\n",
    "        model.add(Dense(512))\n",
    "        model.add(Activation(\"relu\"))\n",
    "\n",
    "        # 15 categorical bins for Steering angles\n",
    "        model.add(Dense(15, activation=\"linear\"))\n",
    "\n",
    "        adam = Adam(lr=1e-4)\n",
    "        model.compile(loss=\"mse\", optimizer=adam)\n",
    "\n",
    "        return model"
   ]
  },
  {
   "cell_type": "code",
   "execution_count": 12,
   "id": "competent-reform",
   "metadata": {},
   "outputs": [
    {
     "name": "stdout",
     "output_type": "stream",
     "text": [
      "Model: \"sequential\"\n",
      "_________________________________________________________________\n",
      "Layer (type)                 Output Shape              Param #   \n",
      "=================================================================\n",
      "conv2d (Conv2D)              (None, 40, 40, 24)        2424      \n",
      "_________________________________________________________________\n",
      "activation (Activation)      (None, 40, 40, 24)        0         \n",
      "_________________________________________________________________\n",
      "conv2d_1 (Conv2D)            (None, 20, 20, 32)        19232     \n",
      "_________________________________________________________________\n",
      "activation_1 (Activation)    (None, 20, 20, 32)        0         \n",
      "_________________________________________________________________\n",
      "conv2d_2 (Conv2D)            (None, 10, 10, 64)        51264     \n",
      "_________________________________________________________________\n",
      "activation_2 (Activation)    (None, 10, 10, 64)        0         \n",
      "_________________________________________________________________\n",
      "conv2d_3 (Conv2D)            (None, 5, 5, 64)          36928     \n",
      "_________________________________________________________________\n",
      "activation_3 (Activation)    (None, 5, 5, 64)          0         \n",
      "_________________________________________________________________\n",
      "conv2d_4 (Conv2D)            (None, 5, 5, 64)          36928     \n",
      "_________________________________________________________________\n",
      "activation_4 (Activation)    (None, 5, 5, 64)          0         \n",
      "_________________________________________________________________\n",
      "flatten (Flatten)            (None, 1600)              0         \n",
      "_________________________________________________________________\n",
      "dense (Dense)                (None, 512)               819712    \n",
      "_________________________________________________________________\n",
      "activation_5 (Activation)    (None, 512)               0         \n",
      "_________________________________________________________________\n",
      "dense_1 (Dense)              (None, 15)                7695      \n",
      "=================================================================\n",
      "Total params: 974,183\n",
      "Trainable params: 974,183\n",
      "Non-trainable params: 0\n",
      "_________________________________________________________________\n"
     ]
    }
   ],
   "source": [
    "cnn_model = build_model_cnn()\n",
    "cnn_model.summary()"
   ]
  },
  {
   "cell_type": "code",
   "execution_count": null,
   "id": "political-dryer",
   "metadata": {},
   "outputs": [],
   "source": [
    "def get_action(self, s_t):\n",
    "    if np.random.rand() <= self.epsilon:\n",
    "        sampled_steering = np.interp(self.action_space.sample()[0], [env_steering_min, env_steering_max], [steering_min, steering_max])\n",
    "        sampled_throttle = np.interp(self.action_space.sample()[1], [env_throttle_min, env_throttle_max], [throttle_min, throttle_max])\n",
    "        steering = linear_bin(sampled_steering, size=steering_binsize, min_val=steering_min, max_val=steering_max)\n",
    "        throttle = linear_bin(sampled_throttle, size=throttle_binsize, min_val=throttle_min, max_val=throttle_max)\n",
    "        return throttle_binsize * np.argmax(steering) + np.argmax(throttle)\n",
    "    else:\n",
    "        # print(\"Return Max Q Prediction\")\n",
    "        q_value = self.model.predict(s_t)\n",
    "\n",
    "        # Convert q array to steering and throttle value\n",
    "        return np.argmax(q_value[0])"
   ]
  },
  {
   "cell_type": "code",
   "execution_count": null,
   "id": "daily-kennedy",
   "metadata": {},
   "outputs": [],
   "source": []
  },
  {
   "cell_type": "markdown",
   "id": "figured-copper",
   "metadata": {},
   "source": [
    "# Test the input shape for LSTM"
   ]
  },
  {
   "cell_type": "code",
   "execution_count": 16,
   "id": "sophisticated-creativity",
   "metadata": {},
   "outputs": [],
   "source": [
    "import cv2\n",
    "import matplotlib.pyplot as plt\n",
    "import numpy as np\n",
    "import os\n",
    "import glob\n",
    "from PIL import Image"
   ]
  },
  {
   "cell_type": "code",
   "execution_count": 19,
   "id": "rental-twelve",
   "metadata": {},
   "outputs": [
    {
     "data": {
      "text/plain": [
       "<matplotlib.image.AxesImage at 0x7f1a3671fb50>"
      ]
     },
     "execution_count": 19,
     "metadata": {},
     "output_type": "execute_result"
    },
    {
     "data": {
      "image/png": "[encoded data removed]",
      "text/plain": [
       "<Figure size 432x288 with 1 Axes>"
      ]
     },
     "metadata": {
      "needs_background": "light"
     },
     "output_type": "display_data"
    }
   ],
   "source": [
    "next_obs = cv2.imread(\"0.png\")\n",
    "plt.imshow(next_obs)"
   ]
  },
  {
   "cell_type": "code",
   "execution_count": 25,
   "id": "reflected-stick",
   "metadata": {},
   "outputs": [],
   "source": [
    "img_rows = 80\n",
    "img_cols = 80\n",
    "def rgb2gray(rgb):\n",
    "    \"\"\"\n",
    "    take a numpy rgb image return a new single channel image converted to greyscale\n",
    "    \"\"\"\n",
    "    return np.dot(rgb[..., :3], [0.299, 0.587, 0.114])\n",
    "\n",
    "def process_image(obs):\n",
    "    global LANE_SEGMENTATION \n",
    "    obs = rgb2gray(obs)\n",
    "    obs = cv2.resize(obs, (img_rows, img_cols))\n",
    "#         print(\"in process_image\") # debug \n",
    "#         plt.imshow(obs) # debug\n",
    "#     if LANE_SEGMENTATION: obs = detect_edge(obs)\n",
    "    return obs"
   ]
  },
  {
   "cell_type": "code",
   "execution_count": 31,
   "id": "empirical-second",
   "metadata": {},
   "outputs": [
    {
     "name": "stdout",
     "output_type": "stream",
     "text": [
      "s_t1 shape: (4, 80, 80)\n",
      "x_t1 shape: (80, 80)\n",
      "s_t1 shape: (1, 4, 80, 80)\n"
     ]
    }
   ],
   "source": [
    "x_t = process_image(next_obs)\n",
    "s_t = np.stack((x_t, x_t, x_t, x_t), axis=0)\n",
    "print(\"s_t1 shape:\", s_t.shape)\n",
    "# In Keras, need to reshape\n",
    "s_t = s_t.reshape(1, s_t.shape[0], s_t.shape[1], s_t.shape[2])  # 1*80*80*4\n",
    "print(\"x_t1 shape:\", x_t.shape)\n",
    "print(\"s_t1 shape:\", s_t.shape)"
   ]
  },
  {
   "cell_type": "code",
   "execution_count": 34,
   "id": "burning-poverty",
   "metadata": {},
   "outputs": [
    {
     "name": "stdout",
     "output_type": "stream",
     "text": [
      "x_t1 shape: (1, 1, 80, 80)\n",
      "s_t1 shape: (1, 4, 80, 80)\n"
     ]
    }
   ],
   "source": [
    "next_obs = cv2.imread(\"1.png\")\n",
    "# plt.imshow(agent.process_image(next_obs)) # debug\n",
    "# plt.savefig(\"{}.png\".format(agent.t)) # debug\n",
    "x_t1 = process_image(next_obs)\n",
    "x_t1 = x_t1.reshape(1, 1, x_t1.shape[0], x_t1.shape[1])  # 1x1x80x80\n",
    "s_t1 = np.append(x_t1, s_t[:, :3, :, :], axis=1)  # 1x4x80x80\n",
    "print(\"x_t1 shape:\", x_t1.shape)\n",
    "print(\"s_t1 shape:\", s_t1.shape)"
   ]
  },
  {
   "cell_type": "code",
   "execution_count": null,
   "id": "spoken-behalf",
   "metadata": {},
   "outputs": [],
   "source": []
  }
 ],
 "metadata": {
  "kernelspec": {
   "display_name": "Python 3",
   "language": "python",
   "name": "python3"
  },
  "language_info": {
   "codemirror_mode": {
    "name": "ipython",
    "version": 3
   },
   "file_extension": ".py",
   "mimetype": "text/x-python",
   "name": "python",
   "nbconvert_exporter": "python",
   "pygments_lexer": "ipython3",
   "version": "3.7.10"
  }
 },
 "nbformat": 4,
 "nbformat_minor": 5
}
