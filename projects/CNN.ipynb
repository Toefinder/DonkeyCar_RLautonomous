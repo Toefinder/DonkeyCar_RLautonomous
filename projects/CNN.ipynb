{
 "cells": [
  {
   "cell_type": "markdown",
   "id": "boolean-strip",
   "metadata": {},
   "source": [
    "## The original CNN model as taken from online source"
   ]
  },
  {
   "cell_type": "code",
   "execution_count": 1,
   "id": "brazilian-illustration",
   "metadata": {},
   "outputs": [],
   "source": [
    "import os\n",
    "os.environ[\"CUDA_DEVICE_ORDER\"]=\"PCI_BUS_ID\"\n",
    "os.environ[\"CUDA_VISIBLE_DEVICES\"]=\"-1\""
   ]
  },
  {
   "cell_type": "code",
   "execution_count": 21,
   "id": "auburn-switch",
   "metadata": {},
   "outputs": [],
   "source": [
    "import argparse\n",
    "import os\n",
    "import random\n",
    "import signal\n",
    "import sys\n",
    "import uuid\n",
    "from collections import deque\n",
    "\n",
    "import cv2\n",
    "import gym\n",
    "import gym_donkeycar\n",
    "import numpy as np\n",
    "import tensorflow as tf\n",
    "# from tensorflow.keras import backend as K\n",
    "from tensorflow.keras.layers import Activation, Conv2D, Dense, Flatten, BatchNormalization, Dropout\n",
    "from tensorflow.keras.models import Sequential\n",
    "from tensorflow.keras.optimizers import Adam\n",
    "import matplotlib.pyplot as plt # debug\n",
    "# logging\n",
    "# from stable_baselines import logger\n",
    "# from stable_baselines.common import explained_variance, tf_util, TensorboardWriter\n",
    "# from stable_baselines.common.tf_util import mse, total_episode_reward_logger\n",
    "import math\n",
    "import datetime\n",
    "# from imageprocess import detect_edge\n",
    "img_rows, img_cols = 80, 80\n",
    "# Convert image into Black and white\n",
    "img_channels = 4  # We stack 4 frames"
   ]
  },
  {
   "cell_type": "code",
   "execution_count": 15,
   "id": "lesbian-interstate",
   "metadata": {},
   "outputs": [],
   "source": [
    "class DQNAgent:\n",
    "    def __init__(self):\n",
    "        self.learning_rate = 1e-4\n",
    "    def build_model(self):\n",
    "        model = Sequential()\n",
    "        model.add(\n",
    "            Conv2D(24, (5, 5), strides=(2, 2), padding=\"same\", input_shape=(img_rows, img_cols, img_channels))\n",
    "        )  # 80*80*4\n",
    "        model.add(Activation(\"relu\"))\n",
    "        model.add(Conv2D(32, (5, 5), strides=(2, 2), padding=\"same\"))\n",
    "        model.add(Activation(\"relu\"))\n",
    "        model.add(Conv2D(64, (5, 5), strides=(2, 2), padding=\"same\"))\n",
    "        model.add(Activation(\"relu\"))\n",
    "        model.add(Conv2D(64, (3, 3), strides=(2, 2), padding=\"same\"))\n",
    "        model.add(Activation(\"relu\"))\n",
    "        model.add(Conv2D(64, (3, 3), strides=(1, 1), padding=\"same\"))\n",
    "        model.add(Activation(\"relu\"))\n",
    "        model.add(Flatten())\n",
    "        model.add(Dense(512))\n",
    "        model.add(Activation(\"relu\"))\n",
    "\n",
    "        # 15 categorical bins for Steering angles\n",
    "        model.add(Dense(15, activation=\"linear\"))\n",
    "\n",
    "        adam = Adam(lr=self.learning_rate)\n",
    "        model.compile(loss=\"mse\", optimizer=adam)\n",
    "\n",
    "        return model"
   ]
  },
  {
   "cell_type": "code",
   "execution_count": 16,
   "id": "delayed-greene",
   "metadata": {},
   "outputs": [],
   "source": [
    "dqn_agent = DQNAgent()\n",
    "model = dqn_agent.build_model()"
   ]
  },
  {
   "cell_type": "code",
   "execution_count": 17,
   "id": "elect-potato",
   "metadata": {},
   "outputs": [
    {
     "name": "stdout",
     "output_type": "stream",
     "text": [
      "Model: \"sequential_4\"\n",
      "_________________________________________________________________\n",
      "Layer (type)                 Output Shape              Param #   \n",
      "=================================================================\n",
      "conv2d_20 (Conv2D)           (None, 40, 40, 24)        2424      \n",
      "_________________________________________________________________\n",
      "activation_24 (Activation)   (None, 40, 40, 24)        0         \n",
      "_________________________________________________________________\n",
      "conv2d_21 (Conv2D)           (None, 20, 20, 32)        19232     \n",
      "_________________________________________________________________\n",
      "activation_25 (Activation)   (None, 20, 20, 32)        0         \n",
      "_________________________________________________________________\n",
      "conv2d_22 (Conv2D)           (None, 10, 10, 64)        51264     \n",
      "_________________________________________________________________\n",
      "activation_26 (Activation)   (None, 10, 10, 64)        0         \n",
      "_________________________________________________________________\n",
      "conv2d_23 (Conv2D)           (None, 5, 5, 64)          36928     \n",
      "_________________________________________________________________\n",
      "activation_27 (Activation)   (None, 5, 5, 64)          0         \n",
      "_________________________________________________________________\n",
      "conv2d_24 (Conv2D)           (None, 5, 5, 64)          36928     \n",
      "_________________________________________________________________\n",
      "activation_28 (Activation)   (None, 5, 5, 64)          0         \n",
      "_________________________________________________________________\n",
      "flatten_4 (Flatten)          (None, 1600)              0         \n",
      "_________________________________________________________________\n",
      "dense_8 (Dense)              (None, 512)               819712    \n",
      "_________________________________________________________________\n",
      "activation_29 (Activation)   (None, 512)               0         \n",
      "_________________________________________________________________\n",
      "dense_9 (Dense)              (None, 15)                7695      \n",
      "=================================================================\n",
      "Total params: 974,183\n",
      "Trainable params: 974,183\n",
      "Non-trainable params: 0\n",
      "_________________________________________________________________\n"
     ]
    }
   ],
   "source": [
    "model.summary()"
   ]
  },
  {
   "cell_type": "code",
   "execution_count": null,
   "id": "caroline-postage",
   "metadata": {},
   "outputs": [],
   "source": []
  },
  {
   "cell_type": "markdown",
   "id": "controlled-discovery",
   "metadata": {},
   "source": [
    "## Research on a model of CNN to use in tandem with lane detection\n",
    "https://www.kaggle.com/cdeotte/how-to-choose-cnn-architecture-mnist"
   ]
  },
  {
   "cell_type": "code",
   "execution_count": 25,
   "id": "south-installation",
   "metadata": {},
   "outputs": [],
   "source": [
    "model = [0] * 8\n",
    "j=4\n",
    "\n",
    "model[j] = Sequential()\n",
    "\n",
    "model[j].add(Conv2D(32,kernel_size=3,activation='relu',input_shape=(80,80,4)))\n",
    "model[j].add(BatchNormalization())\n",
    "model[j].add(Conv2D(32,kernel_size=3,activation='relu'))\n",
    "model[j].add(BatchNormalization())\n",
    "model[j].add(Conv2D(32,kernel_size=5,strides=2,padding='same',activation='relu'))\n",
    "model[j].add(BatchNormalization())\n",
    "model[j].add(Dropout(0.4))\n",
    "\n",
    "model[j].add(Conv2D(64,kernel_size=3,activation='relu'))\n",
    "model[j].add(BatchNormalization())\n",
    "model[j].add(Conv2D(64,kernel_size=3,activation='relu'))\n",
    "model[j].add(BatchNormalization())\n",
    "model[j].add(Conv2D(64,kernel_size=5,strides=2,padding='same',activation='relu'))\n",
    "model[j].add(BatchNormalization())\n",
    "model[j].add(Dropout(0.4))\n",
    "\n",
    "model[j].add(Flatten())\n",
    "model[j].add(Dense(128, activation='relu'))\n",
    "model[j].add(BatchNormalization())\n",
    "model[j].add(Dropout(0.4))\n",
    "model[j].add(Dense(15, activation='softmax'))\n",
    "\n",
    "model[j].compile(optimizer=\"adam\", loss=\"categorical_crossentropy\", metrics=[\"accuracy\"])\n"
   ]
  },
  {
   "cell_type": "code",
   "execution_count": 26,
   "id": "conscious-fiction",
   "metadata": {},
   "outputs": [
    {
     "name": "stdout",
     "output_type": "stream",
     "text": [
      "Model: \"sequential_8\"\n",
      "_________________________________________________________________\n",
      "Layer (type)                 Output Shape              Param #   \n",
      "=================================================================\n",
      "conv2d_35 (Conv2D)           (None, 78, 78, 32)        1184      \n",
      "_________________________________________________________________\n",
      "batch_normalization_10 (Batc (None, 78, 78, 32)        128       \n",
      "_________________________________________________________________\n",
      "conv2d_36 (Conv2D)           (None, 76, 76, 32)        9248      \n",
      "_________________________________________________________________\n",
      "batch_normalization_11 (Batc (None, 76, 76, 32)        128       \n",
      "_________________________________________________________________\n",
      "conv2d_37 (Conv2D)           (None, 38, 38, 32)        25632     \n",
      "_________________________________________________________________\n",
      "batch_normalization_12 (Batc (None, 38, 38, 32)        128       \n",
      "_________________________________________________________________\n",
      "dropout_3 (Dropout)          (None, 38, 38, 32)        0         \n",
      "_________________________________________________________________\n",
      "conv2d_38 (Conv2D)           (None, 36, 36, 64)        18496     \n",
      "_________________________________________________________________\n",
      "batch_normalization_13 (Batc (None, 36, 36, 64)        256       \n",
      "_________________________________________________________________\n",
      "conv2d_39 (Conv2D)           (None, 34, 34, 64)        36928     \n",
      "_________________________________________________________________\n",
      "batch_normalization_14 (Batc (None, 34, 34, 64)        256       \n",
      "_________________________________________________________________\n",
      "conv2d_40 (Conv2D)           (None, 17, 17, 64)        102464    \n",
      "_________________________________________________________________\n",
      "batch_normalization_15 (Batc (None, 17, 17, 64)        256       \n",
      "_________________________________________________________________\n",
      "dropout_4 (Dropout)          (None, 17, 17, 64)        0         \n",
      "_________________________________________________________________\n",
      "flatten_6 (Flatten)          (None, 18496)             0         \n",
      "_________________________________________________________________\n",
      "dense_12 (Dense)             (None, 128)               2367616   \n",
      "_________________________________________________________________\n",
      "batch_normalization_16 (Batc (None, 128)               512       \n",
      "_________________________________________________________________\n",
      "dropout_5 (Dropout)          (None, 128)               0         \n",
      "_________________________________________________________________\n",
      "dense_13 (Dense)             (None, 10)                1290      \n",
      "=================================================================\n",
      "Total params: 2,564,522\n",
      "Trainable params: 2,563,690\n",
      "Non-trainable params: 832\n",
      "_________________________________________________________________\n"
     ]
    }
   ],
   "source": [
    "model[j].summary()"
   ]
  },
  {
   "cell_type": "markdown",
   "id": "infrared-wyoming",
   "metadata": {},
   "source": [
    "## Build my own CNN"
   ]
  },
  {
   "cell_type": "code",
   "execution_count": 45,
   "id": "conventional-knife",
   "metadata": {},
   "outputs": [],
   "source": [
    "class DQNAgent:\n",
    "    def __init__(self):\n",
    "        self.learning_rate = 1e-4\n",
    "    def build_model(self):\n",
    "        model = Sequential()\n",
    "        model.add(\n",
    "            Conv2D(16, (5, 5), strides=(2, 2), padding=\"same\", input_shape=(img_rows, img_cols, img_channels))\n",
    "        )  # 80*80*4\n",
    "        model.add(Activation(\"relu\"))\n",
    "        model.add(Conv2D(32, (5, 5), strides=(2, 2), padding=\"same\"))\n",
    "        model.add(Activation(\"relu\"))\n",
    "        model.add(Conv2D(64, (5, 5), strides=(2, 2), padding=\"same\"))\n",
    "        model.add(Activation(\"relu\"))\n",
    "        model.add(Conv2D(128, (3, 3), strides=(2, 2), padding=\"same\"))\n",
    "        model.add(Activation(\"relu\"))\n",
    "        model.add(Conv2D(256, (3, 3), strides=(1, 1), padding=\"same\"))\n",
    "        model.add(Activation(\"relu\"))\n",
    "        \n",
    "        model.add(layers.GlobalAveragePooling2D()) # replace the CNN model with a custom one\n",
    "        \n",
    "        model.add(Dense(128))\n",
    "        model.add(Activation(\"relu\"))\n",
    "\n",
    "        # 15 categorical bins for Steering angles\n",
    "        model.add(Dense(15, activation=\"linear\"))\n",
    "\n",
    "        adam = Adam(lr=self.learning_rate)\n",
    "        model.compile(loss=\"mse\", optimizer=adam)\n",
    "\n",
    "        return model"
   ]
  },
  {
   "cell_type": "code",
   "execution_count": 46,
   "id": "sublime-weather",
   "metadata": {},
   "outputs": [
    {
     "name": "stdout",
     "output_type": "stream",
     "text": [
      "Model: \"sequential_19\"\n",
      "_________________________________________________________________\n",
      "Layer (type)                 Output Shape              Param #   \n",
      "=================================================================\n",
      "conv2d_71 (Conv2D)           (None, 40, 40, 16)        1616      \n",
      "_________________________________________________________________\n",
      "activation_62 (Activation)   (None, 40, 40, 16)        0         \n",
      "_________________________________________________________________\n",
      "conv2d_72 (Conv2D)           (None, 20, 20, 32)        12832     \n",
      "_________________________________________________________________\n",
      "activation_63 (Activation)   (None, 20, 20, 32)        0         \n",
      "_________________________________________________________________\n",
      "conv2d_73 (Conv2D)           (None, 10, 10, 64)        51264     \n",
      "_________________________________________________________________\n",
      "activation_64 (Activation)   (None, 10, 10, 64)        0         \n",
      "_________________________________________________________________\n",
      "conv2d_74 (Conv2D)           (None, 5, 5, 128)         73856     \n",
      "_________________________________________________________________\n",
      "activation_65 (Activation)   (None, 5, 5, 128)         0         \n",
      "_________________________________________________________________\n",
      "conv2d_75 (Conv2D)           (None, 5, 5, 256)         295168    \n",
      "_________________________________________________________________\n",
      "activation_66 (Activation)   (None, 5, 5, 256)         0         \n",
      "_________________________________________________________________\n",
      "global_average_pooling2d_5 ( (None, 256)               0         \n",
      "_________________________________________________________________\n",
      "dense_24 (Dense)             (None, 128)               32896     \n",
      "_________________________________________________________________\n",
      "activation_67 (Activation)   (None, 128)               0         \n",
      "_________________________________________________________________\n",
      "dense_25 (Dense)             (None, 15)                1935      \n",
      "=================================================================\n",
      "Total params: 469,567\n",
      "Trainable params: 469,567\n",
      "Non-trainable params: 0\n",
      "_________________________________________________________________\n"
     ]
    }
   ],
   "source": [
    "dqn_agent = DQNAgent()\n",
    "model = dqn_agent.build_model()\n",
    "model.summary()"
   ]
  },
  {
   "cell_type": "code",
   "execution_count": null,
   "id": "invisible-vintage",
   "metadata": {},
   "outputs": [],
   "source": []
  }
 ],
 "metadata": {
  "kernelspec": {
   "display_name": "Python 3",
   "language": "python",
   "name": "python3"
  },
  "language_info": {
   "codemirror_mode": {
    "name": "ipython",
    "version": 3
   },
   "file_extension": ".py",
   "mimetype": "text/x-python",
   "name": "python",
   "nbconvert_exporter": "python",
   "pygments_lexer": "ipython3",
   "version": "3.7.10"
  }
 },
 "nbformat": 4,
 "nbformat_minor": 5
}
