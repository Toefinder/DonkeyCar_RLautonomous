{
 "cells": [
  {
   "cell_type": "markdown",
   "id": "classical-olympus",
   "metadata": {},
   "source": [
    "## The original CNN model as taken from online source"
   ]
  },
  {
   "cell_type": "code",
   "execution_count": 1,
   "id": "dependent-rings",
   "metadata": {},
   "outputs": [],
   "source": [
    "import os\n",
    "os.environ[\"CUDA_DEVICE_ORDER\"]=\"PCI_BUS_ID\"\n",
    "os.environ[\"CUDA_VISIBLE_DEVICES\"]=\"-1\""
   ]
  },
  {
   "cell_type": "code",
   "execution_count": 2,
   "id": "adopted-malaysia",
   "metadata": {},
   "outputs": [],
   "source": [
    "import argparse\n",
    "import os\n",
    "import random\n",
    "import signal\n",
    "import sys\n",
    "import uuid\n",
    "from collections import deque\n",
    "\n",
    "import cv2\n",
    "import gym\n",
    "import gym_donkeycar\n",
    "import numpy as np\n",
    "import tensorflow as tf\n",
    "# from tensorflow.keras import backend as K\n",
    "from tensorflow.keras.layers import Activation, Conv2D, Dense, Flatten, BatchNormalization, Dropout, GlobalAveragePooling2D\n",
    "from tensorflow.keras.models import Sequential\n",
    "from tensorflow.keras.optimizers import Adam\n",
    "import matplotlib.pyplot as plt # debug\n",
    "# logging\n",
    "# from stable_baselines import logger\n",
    "# from stable_baselines.common import explained_variance, tf_util, TensorboardWriter\n",
    "# from stable_baselines.common.tf_util import mse, total_episode_reward_logger\n",
    "import math\n",
    "import datetime\n",
    "# from imageprocess import detect_edge\n",
    "img_rows, img_cols = 80, 80\n",
    "# Convert image into Black and white\n",
    "img_channels = 4  # We stack 4 frames"
   ]
  },
  {
   "cell_type": "code",
   "execution_count": 15,
   "id": "awful-rapid",
   "metadata": {},
   "outputs": [],
   "source": [
    "class DQNAgent:\n",
    "    def __init__(self):\n",
    "        self.learning_rate = 1e-4\n",
    "    def build_model(self):\n",
    "        model = Sequential()\n",
    "        model.add(\n",
    "            Conv2D(24, (5, 5), strides=(2, 2), padding=\"same\", input_shape=(img_rows, img_cols, img_channels))\n",
    "        )  # 80*80*4\n",
    "        model.add(Activation(\"relu\"))\n",
    "        model.add(Conv2D(32, (5, 5), strides=(2, 2), padding=\"same\"))\n",
    "        model.add(Activation(\"relu\"))\n",
    "        model.add(Conv2D(64, (5, 5), strides=(2, 2), padding=\"same\"))\n",
    "        model.add(Activation(\"relu\"))\n",
    "        model.add(Conv2D(64, (3, 3), strides=(2, 2), padding=\"same\"))\n",
    "        model.add(Activation(\"relu\"))\n",
    "        model.add(Conv2D(64, (3, 3), strides=(1, 1), padding=\"same\"))\n",
    "        model.add(Activation(\"relu\"))\n",
    "        model.add(Flatten())\n",
    "        model.add(Dense(512))\n",
    "        model.add(Activation(\"relu\"))\n",
    "\n",
    "        # 15 categorical bins for Steering angles\n",
    "        model.add(Dense(15, activation=\"linear\"))\n",
    "\n",
    "        adam = Adam(lr=self.learning_rate)\n",
    "        model.compile(loss=\"mse\", optimizer=adam)\n",
    "\n",
    "        return model"
   ]
  },
  {
   "cell_type": "code",
   "execution_count": 16,
   "id": "advanced-desert",
   "metadata": {},
   "outputs": [],
   "source": [
    "dqn_agent = DQNAgent()\n",
    "model = dqn_agent.build_model()"
   ]
  },
  {
   "cell_type": "code",
   "execution_count": 17,
   "id": "hazardous-jacksonville",
   "metadata": {},
   "outputs": [
    {
     "name": "stdout",
     "output_type": "stream",
     "text": [
      "Model: \"sequential_4\"\n",
      "_________________________________________________________________\n",
      "Layer (type)                 Output Shape              Param #   \n",
      "=================================================================\n",
      "conv2d_20 (Conv2D)           (None, 40, 40, 24)        2424      \n",
      "_________________________________________________________________\n",
      "activation_24 (Activation)   (None, 40, 40, 24)        0         \n",
      "_________________________________________________________________\n",
      "conv2d_21 (Conv2D)           (None, 20, 20, 32)        19232     \n",
      "_________________________________________________________________\n",
      "activation_25 (Activation)   (None, 20, 20, 32)        0         \n",
      "_________________________________________________________________\n",
      "conv2d_22 (Conv2D)           (None, 10, 10, 64)        51264     \n",
      "_________________________________________________________________\n",
      "activation_26 (Activation)   (None, 10, 10, 64)        0         \n",
      "_________________________________________________________________\n",
      "conv2d_23 (Conv2D)           (None, 5, 5, 64)          36928     \n",
      "_________________________________________________________________\n",
      "activation_27 (Activation)   (None, 5, 5, 64)          0         \n",
      "_________________________________________________________________\n",
      "conv2d_24 (Conv2D)           (None, 5, 5, 64)          36928     \n",
      "_________________________________________________________________\n",
      "activation_28 (Activation)   (None, 5, 5, 64)          0         \n",
      "_________________________________________________________________\n",
      "flatten_4 (Flatten)          (None, 1600)              0         \n",
      "_________________________________________________________________\n",
      "dense_8 (Dense)              (None, 512)               819712    \n",
      "_________________________________________________________________\n",
      "activation_29 (Activation)   (None, 512)               0         \n",
      "_________________________________________________________________\n",
      "dense_9 (Dense)              (None, 15)                7695      \n",
      "=================================================================\n",
      "Total params: 974,183\n",
      "Trainable params: 974,183\n",
      "Non-trainable params: 0\n",
      "_________________________________________________________________\n"
     ]
    }
   ],
   "source": [
    "model.summary()"
   ]
  },
  {
   "cell_type": "code",
   "execution_count": null,
   "id": "familiar-cable",
   "metadata": {},
   "outputs": [],
   "source": []
  },
  {
   "cell_type": "markdown",
   "id": "opposed-metropolitan",
   "metadata": {},
   "source": [
    "## Research on a model of CNN to use in tandem with lane detection\n",
    "https://www.kaggle.com/cdeotte/how-to-choose-cnn-architecture-mnist"
   ]
  },
  {
   "cell_type": "code",
   "execution_count": 25,
   "id": "meaning-selling",
   "metadata": {},
   "outputs": [],
   "source": [
    "model = [0] * 8\n",
    "j=4\n",
    "\n",
    "model[j] = Sequential()\n",
    "\n",
    "model[j].add(Conv2D(32,kernel_size=3,activation='relu',input_shape=(80,80,4)))\n",
    "model[j].add(BatchNormalization())\n",
    "model[j].add(Conv2D(32,kernel_size=3,activation='relu'))\n",
    "model[j].add(BatchNormalization())\n",
    "model[j].add(Conv2D(32,kernel_size=5,strides=2,padding='same',activation='relu'))\n",
    "model[j].add(BatchNormalization())\n",
    "model[j].add(Dropout(0.4))\n",
    "\n",
    "model[j].add(Conv2D(64,kernel_size=3,activation='relu'))\n",
    "model[j].add(BatchNormalization())\n",
    "model[j].add(Conv2D(64,kernel_size=3,activation='relu'))\n",
    "model[j].add(BatchNormalization())\n",
    "model[j].add(Conv2D(64,kernel_size=5,strides=2,padding='same',activation='relu'))\n",
    "model[j].add(BatchNormalization())\n",
    "model[j].add(Dropout(0.4))\n",
    "\n",
    "model[j].add(Flatten())\n",
    "model[j].add(Dense(128, activation='relu'))\n",
    "model[j].add(BatchNormalization())\n",
    "model[j].add(Dropout(0.4))\n",
    "model[j].add(Dense(15, activation='softmax'))\n",
    "\n",
    "model[j].compile(optimizer=\"adam\", loss=\"categorical_crossentropy\", metrics=[\"accuracy\"])\n"
   ]
  },
  {
   "cell_type": "code",
   "execution_count": 26,
   "id": "single-cornell",
   "metadata": {},
   "outputs": [
    {
     "name": "stdout",
     "output_type": "stream",
     "text": [
      "Model: \"sequential_8\"\n",
      "_________________________________________________________________\n",
      "Layer (type)                 Output Shape              Param #   \n",
      "=================================================================\n",
      "conv2d_35 (Conv2D)           (None, 78, 78, 32)        1184      \n",
      "_________________________________________________________________\n",
      "batch_normalization_10 (Batc (None, 78, 78, 32)        128       \n",
      "_________________________________________________________________\n",
      "conv2d_36 (Conv2D)           (None, 76, 76, 32)        9248      \n",
      "_________________________________________________________________\n",
      "batch_normalization_11 (Batc (None, 76, 76, 32)        128       \n",
      "_________________________________________________________________\n",
      "conv2d_37 (Conv2D)           (None, 38, 38, 32)        25632     \n",
      "_________________________________________________________________\n",
      "batch_normalization_12 (Batc (None, 38, 38, 32)        128       \n",
      "_________________________________________________________________\n",
      "dropout_3 (Dropout)          (None, 38, 38, 32)        0         \n",
      "_________________________________________________________________\n",
      "conv2d_38 (Conv2D)           (None, 36, 36, 64)        18496     \n",
      "_________________________________________________________________\n",
      "batch_normalization_13 (Batc (None, 36, 36, 64)        256       \n",
      "_________________________________________________________________\n",
      "conv2d_39 (Conv2D)           (None, 34, 34, 64)        36928     \n",
      "_________________________________________________________________\n",
      "batch_normalization_14 (Batc (None, 34, 34, 64)        256       \n",
      "_________________________________________________________________\n",
      "conv2d_40 (Conv2D)           (None, 17, 17, 64)        102464    \n",
      "_________________________________________________________________\n",
      "batch_normalization_15 (Batc (None, 17, 17, 64)        256       \n",
      "_________________________________________________________________\n",
      "dropout_4 (Dropout)          (None, 17, 17, 64)        0         \n",
      "_________________________________________________________________\n",
      "flatten_6 (Flatten)          (None, 18496)             0         \n",
      "_________________________________________________________________\n",
      "dense_12 (Dense)             (None, 128)               2367616   \n",
      "_________________________________________________________________\n",
      "batch_normalization_16 (Batc (None, 128)               512       \n",
      "_________________________________________________________________\n",
      "dropout_5 (Dropout)          (None, 128)               0         \n",
      "_________________________________________________________________\n",
      "dense_13 (Dense)             (None, 10)                1290      \n",
      "=================================================================\n",
      "Total params: 2,564,522\n",
      "Trainable params: 2,563,690\n",
      "Non-trainable params: 832\n",
      "_________________________________________________________________\n"
     ]
    }
   ],
   "source": [
    "model[j].summary()"
   ]
  },
  {
   "cell_type": "markdown",
   "id": "decent-amsterdam",
   "metadata": {},
   "source": [
    "## Build my own CNN"
   ]
  },
  {
   "cell_type": "code",
   "execution_count": 45,
   "id": "postal-passenger",
   "metadata": {},
   "outputs": [],
   "source": [
    "class DQNAgent:\n",
    "    def __init__(self):\n",
    "        self.learning_rate = 1e-4\n",
    "    def build_model(self):\n",
    "        model = Sequential()\n",
    "        model.add(\n",
    "            Conv2D(16, (5, 5), strides=(2, 2), padding=\"same\", input_shape=(img_rows, img_cols, img_channels))\n",
    "        )  # 80*80*4\n",
    "        model.add(Activation(\"relu\"))\n",
    "        model.add(Conv2D(32, (5, 5), strides=(2, 2), padding=\"same\"))\n",
    "        model.add(Activation(\"relu\"))\n",
    "        model.add(Conv2D(64, (5, 5), strides=(2, 2), padding=\"same\"))\n",
    "        model.add(Activation(\"relu\"))\n",
    "        model.add(Conv2D(128, (3, 3), strides=(2, 2), padding=\"same\"))\n",
    "        model.add(Activation(\"relu\"))\n",
    "        model.add(Conv2D(256, (3, 3), strides=(1, 1), padding=\"same\"))\n",
    "        model.add(Activation(\"relu\"))\n",
    "        \n",
    "        model.add(layers.GlobalAveragePooling2D()) # replace the CNN model with a custom one\n",
    "        \n",
    "        model.add(Dense(128))\n",
    "        model.add(Activation(\"relu\"))\n",
    "\n",
    "        # 15 categorical bins for Steering angles\n",
    "        model.add(Dense(15, activation=\"linear\"))\n",
    "\n",
    "        adam = Adam(lr=self.learning_rate)\n",
    "        model.compile(loss=\"mse\", optimizer=adam)\n",
    "\n",
    "        return model"
   ]
  },
  {
   "cell_type": "code",
   "execution_count": 46,
   "id": "editorial-finder",
   "metadata": {},
   "outputs": [
    {
     "name": "stdout",
     "output_type": "stream",
     "text": [
      "Model: \"sequential_19\"\n",
      "_________________________________________________________________\n",
      "Layer (type)                 Output Shape              Param #   \n",
      "=================================================================\n",
      "conv2d_71 (Conv2D)           (None, 40, 40, 16)        1616      \n",
      "_________________________________________________________________\n",
      "activation_62 (Activation)   (None, 40, 40, 16)        0         \n",
      "_________________________________________________________________\n",
      "conv2d_72 (Conv2D)           (None, 20, 20, 32)        12832     \n",
      "_________________________________________________________________\n",
      "activation_63 (Activation)   (None, 20, 20, 32)        0         \n",
      "_________________________________________________________________\n",
      "conv2d_73 (Conv2D)           (None, 10, 10, 64)        51264     \n",
      "_________________________________________________________________\n",
      "activation_64 (Activation)   (None, 10, 10, 64)        0         \n",
      "_________________________________________________________________\n",
      "conv2d_74 (Conv2D)           (None, 5, 5, 128)         73856     \n",
      "_________________________________________________________________\n",
      "activation_65 (Activation)   (None, 5, 5, 128)         0         \n",
      "_________________________________________________________________\n",
      "conv2d_75 (Conv2D)           (None, 5, 5, 256)         295168    \n",
      "_________________________________________________________________\n",
      "activation_66 (Activation)   (None, 5, 5, 256)         0         \n",
      "_________________________________________________________________\n",
      "global_average_pooling2d_5 ( (None, 256)               0         \n",
      "_________________________________________________________________\n",
      "dense_24 (Dense)             (None, 128)               32896     \n",
      "_________________________________________________________________\n",
      "activation_67 (Activation)   (None, 128)               0         \n",
      "_________________________________________________________________\n",
      "dense_25 (Dense)             (None, 15)                1935      \n",
      "=================================================================\n",
      "Total params: 469,567\n",
      "Trainable params: 469,567\n",
      "Non-trainable params: 0\n",
      "_________________________________________________________________\n"
     ]
    }
   ],
   "source": [
    "dqn_agent = DQNAgent()\n",
    "model = dqn_agent.build_model()\n",
    "model.summary()"
   ]
  },
  {
   "cell_type": "markdown",
   "id": "rolled-alert",
   "metadata": {},
   "source": [
    "## Edit 2 to CNN: when images are stacked vertically instead of stacking in the color channel"
   ]
  },
  {
   "cell_type": "code",
   "execution_count": 3,
   "id": "friendly-compiler",
   "metadata": {},
   "outputs": [],
   "source": [
    "img_rows, img_cols = 80, 80\n",
    "# Convert image into Black and white\n",
    "img_channels = 4  # We stack 4 frames"
   ]
  },
  {
   "cell_type": "code",
   "execution_count": 12,
   "id": "artificial-biology",
   "metadata": {},
   "outputs": [
    {
     "data": {
      "text/plain": [
       "499967"
      ]
     },
     "execution_count": 12,
     "metadata": {},
     "output_type": "execute_result"
    }
   ],
   "source": [
    "499967"
   ]
  },
  {
   "cell_type": "code",
   "execution_count": 82,
   "id": "psychological-infrastructure",
   "metadata": {},
   "outputs": [],
   "source": [
    "class DQNAgent:\n",
    "    def __init__(self):\n",
    "        self.learning_rate = 1e-4\n",
    "        self.action_size = 15\n",
    "        self.color_channels=1\n",
    "    def build_model(self):\n",
    "        model = Sequential()\n",
    "        model.add(Conv2D(16, (5, 5), strides=(2, 2), padding=\"same\", input_shape=(img_rows*img_channels, img_cols, color_channels), activation='relu'))  # 80*80*4\n",
    "        model.add(Conv2D(32, (5, 5), strides=(2, 2), padding=\"same\", activation='relu'))\n",
    "        model.add(Conv2D(64, (5, 5), strides=(2, 2), padding=\"same\", activation='relu'))\n",
    "        model.add(Conv2D(128, (3, 3), strides=(2, 2), padding=\"same\", activation='relu'))\n",
    "        model.add(Conv2D(256, (3, 3), strides=(1, 1), padding=\"same\", activation='relu'))\n",
    "\n",
    "        model.add(GlobalAveragePooling2D()) # replace the CNN model with a custom one\n",
    "\n",
    "        model.add(Dense(128, activation='relu'))\n",
    "\n",
    "        # 15 categorical bins for Steering angles\n",
    "        model.add(Dense(self.action_size, activation=\"linear\"))\n",
    "\n",
    "        adam = Adam(lr=self.learning_rate)\n",
    "        model.compile(loss=\"mse\", optimizer=adam)\n",
    "        \n",
    "        return model"
   ]
  },
  {
   "cell_type": "code",
   "execution_count": 83,
   "id": "stock-overhead",
   "metadata": {},
   "outputs": [
    {
     "name": "stdout",
     "output_type": "stream",
     "text": [
      "Model: \"sequential_13\"\n",
      "_________________________________________________________________\n",
      "Layer (type)                 Output Shape              Param #   \n",
      "=================================================================\n",
      "conv2d_56 (Conv2D)           (None, 160, 40, 16)       416       \n",
      "_________________________________________________________________\n",
      "conv2d_57 (Conv2D)           (None, 80, 20, 32)        12832     \n",
      "_________________________________________________________________\n",
      "conv2d_58 (Conv2D)           (None, 40, 10, 64)        51264     \n",
      "_________________________________________________________________\n",
      "conv2d_59 (Conv2D)           (None, 20, 5, 128)        73856     \n",
      "_________________________________________________________________\n",
      "conv2d_60 (Conv2D)           (None, 20, 5, 256)        295168    \n",
      "_________________________________________________________________\n",
      "global_average_pooling2d_10  (None, 256)               0         \n",
      "_________________________________________________________________\n",
      "dense_19 (Dense)             (None, 128)               32896     \n",
      "_________________________________________________________________\n",
      "dense_20 (Dense)             (None, 15)                1935      \n",
      "=================================================================\n",
      "Total params: 468,367\n",
      "Trainable params: 468,367\n",
      "Non-trainable params: 0\n",
      "_________________________________________________________________\n"
     ]
    }
   ],
   "source": [
    "dqn_agent = DQNAgent()\n",
    "model = dqn_agent.build_model()\n",
    "model.summary()"
   ]
  },
  {
   "cell_type": "code",
   "execution_count": 26,
   "id": "naked-somalia",
   "metadata": {},
   "outputs": [],
   "source": [
    "import cv2\n",
    "import matplotlib.pyplot as plt\n",
    "import numpy as np\n",
    "import os\n",
    "import glob\n",
    "from PIL import Image"
   ]
  },
  {
   "cell_type": "code",
   "execution_count": 54,
   "id": "clean-address",
   "metadata": {},
   "outputs": [
    {
     "data": {
      "text/plain": [
       "(120, 160)"
      ]
     },
     "execution_count": 54,
     "metadata": {},
     "output_type": "execute_result"
    }
   ],
   "source": [
    "next_obs = cv2.imread(\"images/0_cam-image_array_.jpg\")\n",
    "x_t = next_obs[:, :, 0]\n",
    "x_t.shape"
   ]
  },
  {
   "cell_type": "code",
   "execution_count": 69,
   "id": "democratic-watts",
   "metadata": {},
   "outputs": [],
   "source": [
    "x_t = cv2.resize(x_t, (80, 80))"
   ]
  },
  {
   "cell_type": "code",
   "execution_count": 70,
   "id": "convinced-cloud",
   "metadata": {},
   "outputs": [],
   "source": [
    "img_rows, img_col = x_t.shape"
   ]
  },
  {
   "cell_type": "code",
   "execution_count": 71,
   "id": "adult-tunnel",
   "metadata": {},
   "outputs": [
    {
     "data": {
      "text/plain": [
       "(320, 80)"
      ]
     },
     "execution_count": 71,
     "metadata": {},
     "output_type": "execute_result"
    }
   ],
   "source": [
    "img_channels = 4\n",
    "s_t = np.vstack((x_t,)*img_channels) # 4*80*80\n",
    "s_t.shape"
   ]
  },
  {
   "cell_type": "code",
   "execution_count": 72,
   "id": "noted-thanks",
   "metadata": {},
   "outputs": [
    {
     "data": {
      "text/plain": [
       "(1, 320, 80, 1)"
      ]
     },
     "execution_count": 72,
     "metadata": {},
     "output_type": "execute_result"
    }
   ],
   "source": [
    "s_t = s_t.reshape(1, s_t.shape[0], s_t.shape[1], color_channels)  # 1*320*80*1\n",
    "s_t.shape"
   ]
  },
  {
   "cell_type": "code",
   "execution_count": 74,
   "id": "fifteen-mainland",
   "metadata": {},
   "outputs": [
    {
     "data": {
      "text/plain": [
       "<matplotlib.image.AxesImage at 0x7f0784764f90>"
      ]
     },
     "execution_count": 74,
     "metadata": {},
     "output_type": "execute_result"
    },
    {
     "data": {
      "image/png": "[encoded data removed]",
      "text/plain": [
       "<Figure size 432x288 with 1 Axes>"
      ]
     },
     "metadata": {
      "needs_background": "light"
     },
     "output_type": "display_data"
    }
   ],
   "source": [
    "plt.imshow(s_t[0])"
   ]
  },
  {
   "cell_type": "code",
   "execution_count": 75,
   "id": "peripheral-custody",
   "metadata": {},
   "outputs": [
    {
     "data": {
      "text/plain": [
       "(120, 160)"
      ]
     },
     "execution_count": 75,
     "metadata": {},
     "output_type": "execute_result"
    }
   ],
   "source": [
    "next_obs = cv2.imread(\"images/1283_cam-image_array_.jpg\")\n",
    "x_t1 = next_obs[:, :, 0]\n",
    "x_t1.shape"
   ]
  },
  {
   "cell_type": "code",
   "execution_count": 76,
   "id": "controversial-queens",
   "metadata": {},
   "outputs": [],
   "source": [
    "x_t1 = cv2.resize(x_t1, (80, 80))"
   ]
  },
  {
   "cell_type": "code",
   "execution_count": 77,
   "id": "explicit-beast",
   "metadata": {},
   "outputs": [],
   "source": [
    "color_channels = 1\n",
    "x_t1 = x_t1.reshape(1, x_t1.shape[0], x_t1.shape[1], color_channels)  # 1x80x80x1"
   ]
  },
  {
   "cell_type": "code",
   "execution_count": 78,
   "id": "piano-harvey",
   "metadata": {},
   "outputs": [
    {
     "data": {
      "text/plain": [
       "(1, 240, 80, 1)"
      ]
     },
     "execution_count": 78,
     "metadata": {},
     "output_type": "execute_result"
    }
   ],
   "source": [
    "s_t[:, img_rows:, :, :].shape"
   ]
  },
  {
   "cell_type": "code",
   "execution_count": 79,
   "id": "reserved-isaac",
   "metadata": {},
   "outputs": [
    {
     "data": {
      "text/plain": [
       "(1, 320, 80, 1)"
      ]
     },
     "execution_count": 79,
     "metadata": {},
     "output_type": "execute_result"
    }
   ],
   "source": [
    "s_t1 = np.append(x_t1, s_t[:, img_rows:, :, :], axis=1)  # 1x320x80x4\n",
    "s_t1.shape"
   ]
  },
  {
   "cell_type": "code",
   "execution_count": 80,
   "id": "colonial-peoples",
   "metadata": {},
   "outputs": [
    {
     "data": {
      "text/plain": [
       "<matplotlib.image.AxesImage at 0x7f07846c7f50>"
      ]
     },
     "execution_count": 80,
     "metadata": {},
     "output_type": "execute_result"
    },
    {
     "data": {
      "image/png": "[encoded data removed]",
      "text/plain": [
       "<Figure size 432x288 with 1 Axes>"
      ]
     },
     "metadata": {
      "needs_background": "light"
     },
     "output_type": "display_data"
    }
   ],
   "source": [
    "plt.imshow(s_t1[0])"
   ]
  },
  {
   "cell_type": "code",
   "execution_count": 84,
   "id": "frank-portuguese",
   "metadata": {},
   "outputs": [
    {
     "data": {
      "text/plain": [
       "<tf.Tensor: shape=(1, 15), dtype=float32, numpy=\n",
       "array([[ 0.21673009, -3.4038894 , -1.6912638 ,  1.470401  , -1.1312703 ,\n",
       "        -0.9440307 ,  3.268939  ,  2.7457528 , -2.42553   ,  1.223944  ,\n",
       "        -2.5801084 , -0.9476988 ,  0.5892639 ,  2.4082983 ,  2.1118782 ]],\n",
       "      dtype=float32)>"
      ]
     },
     "execution_count": 84,
     "metadata": {},
     "output_type": "execute_result"
    }
   ],
   "source": [
    "model(s_t1)"
   ]
  },
  {
   "cell_type": "code",
   "execution_count": null,
   "id": "aging-shame",
   "metadata": {},
   "outputs": [],
   "source": []
  }
 ],
 "metadata": {
  "kernelspec": {
   "display_name": "Python 3",
   "language": "python",
   "name": "python3"
  },
  "language_info": {
   "codemirror_mode": {
    "name": "ipython",
    "version": 3
   },
   "file_extension": ".py",
   "mimetype": "text/x-python",
   "name": "python",
   "nbconvert_exporter": "python",
   "pygments_lexer": "ipython3",
   "version": "3.7.10"
  }
 },
 "nbformat": 4,
 "nbformat_minor": 5
}
